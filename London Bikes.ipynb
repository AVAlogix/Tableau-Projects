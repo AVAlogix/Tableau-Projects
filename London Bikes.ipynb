
{
 "cells": [
  {
   "cell_type": "code",
   "execution_count": 1,
   "id": "5ca4896b-5703-4cb1-8e17-d9bfa0ef2c25",
   "metadata": {},
   "outputs": [
    {
     "name": "stdout",
     "output_type": "stream",
     "text": [
      "             timestamp  cnt   t1   t2    hum  wind_speed  weather_code  \\\n",
      "0  2015-01-04 00:00:00  182  3.0  2.0   93.0         6.0           3.0   \n",
      "1  2015-01-04 01:00:00  138  3.0  2.5   93.0         5.0           1.0   \n",
      "2  2015-01-04 02:00:00  134  2.5  2.5   96.5         0.0           1.0   \n",
      "3  2015-01-04 03:00:00   72  2.0  2.0  100.0         0.0           1.0   \n",
      "4  2015-01-04 04:00:00   47  2.0  0.0   93.0         6.5           1.0   \n",
      "\n",
      "   is_holiday  is_weekend  season  \n",
      "0         0.0         1.0     3.0  \n",
      "1         0.0         1.0     3.0  \n",
      "2         0.0         1.0     3.0  \n",
      "3         0.0         1.0     3.0  \n",
      "4         0.0         1.0     3.0  \n",
      "Index(['timestamp', 'count', 't1', 't2', 'humidity %', 'wind_speed', 'weather',\n",
      "       'is_holiday', 'is_weekend', 'season'],\n",
      "      dtype='object')\n"
     ]
    }
   ],
   "source": [
    "import pandas as pd\n",
    "\n",
    "# Read the Excel file into a DataFrame\n",
    "df = pd.read_csv('london_merged.csv')\n",
    "\n",
    "# Display the first few rows of the data\n",
    "print(df.head())\n",
    "\n",
    "df.rename(columns={'weather_code': 'weather', 'hum': 'humidity %', 'cnt':'count'}, inplace=True)\n",
    "\n",
    "print(df.columns)"
   ]
  },
  {
   "cell_type": "code",
   "execution_count": 3,
   "id": "4f5739fe-d674-49ef-9dae-72ba12aaa059",
   "metadata": {},
   "outputs": [
    {
     "name": "stdout",
     "output_type": "stream",
     "text": [
      "[3. 0. 1. 2.]\n"
     ]
    }
   ],
   "source": [
    "print(df['season'].unique())\n"
   ]
  },
  {
   "cell_type": "code",
   "execution_count": 5,
   "id": "69f7eee6-11ec-4ea0-a48e-de880fb764d7",
   "metadata": {},
   "outputs": [
    {
     "name": "stdout",
     "output_type": "stream",
     "text": [
      "             timestamp  count   t1   t2  humidity %  wind_speed  weather  \\\n",
      "0  2015-01-04 00:00:00    182  3.0  2.0        93.0         6.0      3.0   \n",
      "1  2015-01-04 01:00:00    138  3.0  2.5        93.0         5.0      1.0   \n",
      "2  2015-01-04 02:00:00    134  2.5  2.5        96.5         0.0      1.0   \n",
      "3  2015-01-04 03:00:00     72  2.0  2.0       100.0         0.0      1.0   \n",
      "4  2015-01-04 04:00:00     47  2.0  0.0        93.0         6.5      1.0   \n",
      "\n",
      "   is_holiday  is_weekend  season  \n",
      "0         0.0         1.0  winter  \n",
      "1         0.0         1.0  winter  \n",
      "2         0.0         1.0  winter  \n",
      "3         0.0         1.0  winter  \n",
      "4         0.0         1.0  winter  \n"
     ]
    }
   ],
   "source": [
    "# Updated season mapping for integer values\n",
    "season_mapping = {\n",
    "    0: 'spring',\n",
    "    1: 'summer',\n",
    "    2: 'autumn',\n",
    "    3: 'winter'\n",
    "}\n",
    "\n",
    "# Map the values to the corresponding season\n",
    "df['season'] = df['season'].map(season_mapping)\n",
    "\n",
    "# Display the updated DataFrame\n",
    "print(df.head())\n"
   ]
  },
  {
   "cell_type": "code",
   "execution_count": 7,
   "id": "d3e9ab60-0a11-4f85-8799-00f3128494c5",
   "metadata": {},
   "outputs": [
    {
     "name": "stdout",
     "output_type": "stream",
     "text": [
      "[ 3.  1.  4.  7.  2. 26. 10.]\n"
     ]
    }
   ],
   "source": [
    "print(df['weather'].unique())"
   ]
  },
  {
   "cell_type": "code",
   "execution_count": 9,
   "id": "a15a5846-416f-45c5-aa31-7803928b3f08",
   "metadata": {},
   "outputs": [
    {
     "name": "stdout",
     "output_type": "stream",
     "text": [
      "             timestamp  count   t1   t2  humidity %  wind_speed  \\\n",
      "0  2015-01-04 00:00:00    182  3.0  2.0        93.0         6.0   \n",
      "1  2015-01-04 01:00:00    138  3.0  2.5        93.0         5.0   \n",
      "2  2015-01-04 02:00:00    134  2.5  2.5        96.5         0.0   \n",
      "3  2015-01-04 03:00:00     72  2.0  2.0       100.0         0.0   \n",
      "4  2015-01-04 04:00:00     47  2.0  0.0        93.0         6.5   \n",
      "\n",
      "         weather  is_holiday  is_weekend  season  \n",
      "0  Broken clouds         0.0         1.0  winter  \n",
      "1          Clear         0.0         1.0  winter  \n",
      "2          Clear         0.0         1.0  winter  \n",
      "3          Clear         0.0         1.0  winter  \n",
      "4          Clear         0.0         1.0  winter  \n"
     ]
    }
   ],
   "source": [
    "# Mapping dictionary for weather\n",
    "weather_mapping = {\n",
    "    '1.0': 'Clear',\n",
    "    '2.0': 'Scattered clouds',\n",
    "    '3.0': 'Broken clouds',\n",
    "    '4.0': 'Cloudy',\n",
    "    '7.0': 'Rain',\n",
    "    '10.0': 'Rain with thunderstorm',\n",
    "    '26.0': 'Snowfall'\n",
    "}\n",
    "\n",
    "# Convert the weather column to strings and map the values\n",
    "df['weather'] = df['weather'].astype(str).map(weather_mapping)\n",
    "\n",
    "# Display the updated DataFrame\n",
    "print(df.head())\n"
   ]
  },
  {
   "cell_type": "code",
   "execution_count": 11,
   "id": "b856d907-5b30-49db-bf7b-4a6898522bef",
   "metadata": {},
   "outputs": [
    {
     "name": "stdout",
     "output_type": "stream",
     "text": [
      "File saved as 'bikes_london.xlsx'\n"
     ]
    }
   ],
   "source": [
    "# Save the DataFrame to an Excel file\n",
    "df.to_excel('bikes_london.xlsx', index=False)\n",
    "\n",
    "# Confirm the file is saved\n",
    "print(\"File saved as 'bikes_london.xlsx'\")\n"
   ]
  },
  {
   "cell_type": "code",
   "execution_count": null,
   "id": "d619e2f5-7830-476e-8c6c-6fdcec8c038f",
   "metadata": {},
   "outputs": [],
   "source": []
  }
 ],
 "metadata": {
  "kernelspec": {
   "display_name": "Python [conda env:base] *",
   "language": "python",
   "name": "conda-base-py"
  },
  "language_info": {
   "codemirror_mode": {
    "name": "ipython",
    "version": 3
   },
   "file_extension": ".py",
   "mimetype": "text/x-python",
   "name": "python",
   "nbconvert_exporter": "python",
   "pygments_lexer": "ipython3",
   "version": "3.12.7"
  }
 },
 "nbformat": 4,
 "nbformat_minor": 5
}
